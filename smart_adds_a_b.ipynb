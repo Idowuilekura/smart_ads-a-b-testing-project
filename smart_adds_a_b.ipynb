{
  "nbformat": 4,
  "nbformat_minor": 0,
  "metadata": {
    "colab": {
      "name": "smart_adds a/b.ipynb",
      "provenance": [],
      "collapsed_sections": [],
      "authorship_tag": "ABX9TyMmcTcWle0dWD0ja+5gyWLQ",
      "include_colab_link": true
    },
    "kernelspec": {
      "name": "python3",
      "display_name": "Python 3"
    }
  },
  "cells": [
    {
      "cell_type": "markdown",
      "metadata": {
        "id": "view-in-github",
        "colab_type": "text"
      },
      "source": [
        "<a href=\"https://colab.research.google.com/github/Idowuilekura/smart_ads-a-b-testing-project/blob/master/smart_adds_a_b.ipynb\" target=\"_parent\"><img src=\"https://colab.research.google.com/assets/colab-badge.svg\" alt=\"Open In Colab\"/></a>"
      ]
    },
    {
      "cell_type": "code",
      "metadata": {
        "id": "mUQH1vcs6H_M",
        "colab_type": "code",
        "colab": {
          "base_uri": "https://localhost:8080/",
          "height": 34
        },
        "outputId": "b889f427-e663-4108-ff7f-0b639a272f33"
      },
      "source": [
        "from google.colab import drive\n",
        "drive.mount('/content/drive')"
      ],
      "execution_count": 1,
      "outputs": [
        {
          "output_type": "stream",
          "text": [
            "Drive already mounted at /content/drive; to attempt to forcibly remount, call drive.mount(\"/content/drive\", force_remount=True).\n"
          ],
          "name": "stdout"
        }
      ]
    },
    {
      "cell_type": "code",
      "metadata": {
        "id": "_NMToe0L7_8d",
        "colab_type": "code",
        "colab": {
          "base_uri": "https://localhost:8080/",
          "height": 71
        },
        "outputId": "783c470d-c600-4c0a-9be5-e942e4379a9e"
      },
      "source": [
        "import pandas as pd\n",
        "import numpy as np\n",
        "import seaborn as sns\n",
        "import matplotlib.pyplot as plt\n",
        "%matplotlib inline\n",
        "import math as mt\n",
        "from scipy.stats import norm\n",
        "from scipy import stats\n",
        "from statsmodels.stats import weightstats"
      ],
      "execution_count": 2,
      "outputs": [
        {
          "output_type": "stream",
          "text": [
            "/usr/local/lib/python3.6/dist-packages/statsmodels/tools/_testing.py:19: FutureWarning: pandas.util.testing is deprecated. Use the functions in the public API at pandas.testing instead.\n",
            "  import pandas.util.testing as tm\n"
          ],
          "name": "stderr"
        }
      ]
    },
    {
      "cell_type": "code",
      "metadata": {
        "id": "T3AXRNG17qQR",
        "colab_type": "code",
        "colab": {}
      },
      "source": [
        "smartadds = pd.read_csv('/content/drive/My Drive/AdSmartABdata.csv')"
      ],
      "execution_count": 3,
      "outputs": []
    },
    {
      "cell_type": "code",
      "metadata": {
        "id": "D-aOWFxX8Ykd",
        "colab_type": "code",
        "colab": {
          "base_uri": "https://localhost:8080/",
          "height": 204
        },
        "outputId": "a465df20-ec10-4e38-ac6b-c555cfd96e13"
      },
      "source": [
        "smartadds.head()"
      ],
      "execution_count": 4,
      "outputs": [
        {
          "output_type": "execute_result",
          "data": {
            "text/html": [
              "<div>\n",
              "<style scoped>\n",
              "    .dataframe tbody tr th:only-of-type {\n",
              "        vertical-align: middle;\n",
              "    }\n",
              "\n",
              "    .dataframe tbody tr th {\n",
              "        vertical-align: top;\n",
              "    }\n",
              "\n",
              "    .dataframe thead th {\n",
              "        text-align: right;\n",
              "    }\n",
              "</style>\n",
              "<table border=\"1\" class=\"dataframe\">\n",
              "  <thead>\n",
              "    <tr style=\"text-align: right;\">\n",
              "      <th></th>\n",
              "      <th>auction_id</th>\n",
              "      <th>experiment</th>\n",
              "      <th>date</th>\n",
              "      <th>hour</th>\n",
              "      <th>device_make</th>\n",
              "      <th>platform_os</th>\n",
              "      <th>browser</th>\n",
              "      <th>yes</th>\n",
              "      <th>no</th>\n",
              "    </tr>\n",
              "  </thead>\n",
              "  <tbody>\n",
              "    <tr>\n",
              "      <th>0</th>\n",
              "      <td>0008ef63-77a7-448b-bd1e-075f42c55e39</td>\n",
              "      <td>exposed</td>\n",
              "      <td>2020-07-10</td>\n",
              "      <td>8</td>\n",
              "      <td>Generic Smartphone</td>\n",
              "      <td>6</td>\n",
              "      <td>Chrome Mobile</td>\n",
              "      <td>0</td>\n",
              "      <td>0</td>\n",
              "    </tr>\n",
              "    <tr>\n",
              "      <th>1</th>\n",
              "      <td>000eabc5-17ce-4137-8efe-44734d914446</td>\n",
              "      <td>exposed</td>\n",
              "      <td>2020-07-07</td>\n",
              "      <td>10</td>\n",
              "      <td>Generic Smartphone</td>\n",
              "      <td>6</td>\n",
              "      <td>Chrome Mobile</td>\n",
              "      <td>0</td>\n",
              "      <td>0</td>\n",
              "    </tr>\n",
              "    <tr>\n",
              "      <th>2</th>\n",
              "      <td>0016d14a-ae18-4a02-a204-6ba53b52f2ed</td>\n",
              "      <td>exposed</td>\n",
              "      <td>2020-07-05</td>\n",
              "      <td>2</td>\n",
              "      <td>E5823</td>\n",
              "      <td>6</td>\n",
              "      <td>Chrome Mobile WebView</td>\n",
              "      <td>0</td>\n",
              "      <td>1</td>\n",
              "    </tr>\n",
              "    <tr>\n",
              "      <th>3</th>\n",
              "      <td>00187412-2932-4542-a8ef-3633901c98d9</td>\n",
              "      <td>control</td>\n",
              "      <td>2020-07-03</td>\n",
              "      <td>15</td>\n",
              "      <td>Samsung SM-A705FN</td>\n",
              "      <td>6</td>\n",
              "      <td>Facebook</td>\n",
              "      <td>0</td>\n",
              "      <td>0</td>\n",
              "    </tr>\n",
              "    <tr>\n",
              "      <th>4</th>\n",
              "      <td>001a7785-d3fe-4e11-a344-c8735acacc2c</td>\n",
              "      <td>control</td>\n",
              "      <td>2020-07-03</td>\n",
              "      <td>15</td>\n",
              "      <td>Generic Smartphone</td>\n",
              "      <td>6</td>\n",
              "      <td>Chrome Mobile</td>\n",
              "      <td>0</td>\n",
              "      <td>0</td>\n",
              "    </tr>\n",
              "  </tbody>\n",
              "</table>\n",
              "</div>"
            ],
            "text/plain": [
              "                             auction_id experiment  ... yes  no\n",
              "0  0008ef63-77a7-448b-bd1e-075f42c55e39    exposed  ...   0   0\n",
              "1  000eabc5-17ce-4137-8efe-44734d914446    exposed  ...   0   0\n",
              "2  0016d14a-ae18-4a02-a204-6ba53b52f2ed    exposed  ...   0   1\n",
              "3  00187412-2932-4542-a8ef-3633901c98d9    control  ...   0   0\n",
              "4  001a7785-d3fe-4e11-a344-c8735acacc2c    control  ...   0   0\n",
              "\n",
              "[5 rows x 9 columns]"
            ]
          },
          "metadata": {
            "tags": []
          },
          "execution_count": 4
        }
      ]
    },
    {
      "cell_type": "markdown",
      "metadata": {
        "id": "i07s9EswX50-",
        "colab_type": "text"
      },
      "source": [
        "Data exploration on the dataset\n"
      ]
    },
    {
      "cell_type": "code",
      "metadata": {
        "id": "ZE-IBn4zk1dn",
        "colab_type": "code",
        "colab": {}
      },
      "source": [
        "exposed = smartadds[smartadds.experiment=='exposed']\n",
        "control =smartadds[smartadds.experiment=='control']"
      ],
      "execution_count": 5,
      "outputs": []
    },
    {
      "cell_type": "code",
      "metadata": {
        "id": "HOu7WV7Bwahz",
        "colab_type": "code",
        "colab": {
          "base_uri": "https://localhost:8080/",
          "height": 391
        },
        "outputId": "4feea178-410b-43cb-feb8-b64c8271863e"
      },
      "source": [
        "exposed.device_make.value_counts().sort_values(ascending=False).head(5).plot(kind='bar',title='top_5_device_used_by_exposed')"
      ],
      "execution_count": 6,
      "outputs": [
        {
          "output_type": "execute_result",
          "data": {
            "text/plain": [
              "<matplotlib.axes._subplots.AxesSubplot at 0x7f8aef864e10>"
            ]
          },
          "metadata": {
            "tags": []
          },
          "execution_count": 6
        },
        {
          "output_type": "display_data",
          "data": {
            "image/png": "[encoded data removed]",
            "text/plain": [
              "<Figure size 432x288 with 1 Axes>"
            ]
          },
          "metadata": {
            "tags": [],
            "needs_background": "light"
          }
        }
      ]
    },
    {
      "cell_type": "code",
      "metadata": {
        "id": "GWXUyw1BzkDX",
        "colab_type": "code",
        "colab": {
          "base_uri": "https://localhost:8080/",
          "height": 391
        },
        "outputId": "40b5f19e-f9a5-4e3c-ca63-5b6615ca6dae"
      },
      "source": [
        "control.device_make.value_counts().sort_values(ascending=False).head(5).plot(kind='bar',title='top_5_device_used_by_control')"
      ],
      "execution_count": 7,
      "outputs": [
        {
          "output_type": "execute_result",
          "data": {
            "text/plain": [
              "<matplotlib.axes._subplots.AxesSubplot at 0x7f8aef7a94a8>"
            ]
          },
          "metadata": {
            "tags": []
          },
          "execution_count": 7
        },
        {
          "output_type": "display_data",
          "data": {
            "image/png": "[encoded data removed]",
            "text/plain": [
              "<Figure size 432x288 with 1 Axes>"
            ]
          },
          "metadata": {
            "tags": [],
            "needs_background": "light"
          }
        }
      ]
    },
    {
      "cell_type": "markdown",
      "metadata": {
        "id": "6gmfTsgMz3QN",
        "colab_type": "text"
      },
      "source": [
        "The above shows that the genreric smartphoone type is higher in control than exposed\n"
      ]
    },
    {
      "cell_type": "code",
      "metadata": {
        "id": "A3QZjg9TvwE9",
        "colab_type": "code",
        "colab": {
          "base_uri": "https://localhost:8080/",
          "height": 51
        },
        "outputId": "fb7880a2-90cd-4f7b-a819-5768d5eec306"
      },
      "source": [
        "# checking if there are duplicated auction_id\n",
        "print(smartadds.auction_id.count())\n",
        "print(smartadds.auction_id.nunique())"
      ],
      "execution_count": 8,
      "outputs": [
        {
          "output_type": "stream",
          "text": [
            "8077\n",
            "8077\n"
          ],
          "name": "stdout"
        }
      ]
    },
    {
      "cell_type": "markdown",
      "metadata": {
        "id": "U4ES2ZauwCaV",
        "colab_type": "text"
      },
      "source": [
        "It seems the number of people in the experiemnt is are unique"
      ]
    },
    {
      "cell_type": "code",
      "metadata": {
        "id": "z2c9MouabXkL",
        "colab_type": "code",
        "colab": {
          "base_uri": "https://localhost:8080/",
          "height": 320
        },
        "outputId": "43338cc2-2fe0-4634-a4c0-caa8ecc40cf4"
      },
      "source": [
        "exposed_yes_no = exposed[['yes','no']].sum()\n",
        "exposed_yes_no.plot(kind='bar',title='exposed user response')\n",
        "plt.xlabel('responses')\n",
        "plt.ylabel('sum of responses')"
      ],
      "execution_count": 9,
      "outputs": [
        {
          "output_type": "execute_result",
          "data": {
            "text/plain": [
              "Text(0, 0.5, 'sum of responses')"
            ]
          },
          "metadata": {
            "tags": []
          },
          "execution_count": 9
        },
        {
          "output_type": "display_data",
          "data": {
            "image/png": "[encoded data removed]",
            "text/plain": [
              "<Figure size 432x288 with 1 Axes>"
            ]
          },
          "metadata": {
            "tags": [],
            "needs_background": "light"
          }
        }
      ]
    },
    {
      "cell_type": "markdown",
      "metadata": {
        "id": "7aa774ALuRuL",
        "colab_type": "text"
      },
      "source": [
        "From here we could see that the total number of yes in the exposed group is smlaller than the number of no\n"
      ]
    },
    {
      "cell_type": "code",
      "metadata": {
        "id": "_oOLI7-Vt0-2",
        "colab_type": "code",
        "colab": {
          "base_uri": "https://localhost:8080/",
          "height": 320
        },
        "outputId": "e64312d3-23ff-4e74-d5e0-6a4a5721d133"
      },
      "source": [
        "control_response = control[['yes','no']].sum()\n",
        "control_response.plot(kind='bar',color='r',title='control_user_response')\n",
        "plt.xlabel('responses')\n",
        "plt.ylabel('sum_of_responses')"
      ],
      "execution_count": 10,
      "outputs": [
        {
          "output_type": "execute_result",
          "data": {
            "text/plain": [
              "Text(0, 0.5, 'sum_of_responses')"
            ]
          },
          "metadata": {
            "tags": []
          },
          "execution_count": 10
        },
        {
          "output_type": "display_data",
          "data": {
            "image/png": "[encoded data removed]",
            "text/plain": [
              "<Figure size 432x288 with 1 Axes>"
            ]
          },
          "metadata": {
            "tags": [],
            "needs_background": "light"
          }
        }
      ]
    },
    {
      "cell_type": "markdown",
      "metadata": {
        "id": "QYH-TrXnuxUa",
        "colab_type": "text"
      },
      "source": [
        "The above scenario still played out in the response of the control group but we can see that the number of yes in the exposed group and no is higher than that of the control"
      ]
    },
    {
      "cell_type": "code",
      "metadata": {
        "id": "JVJa8sY6YSTb",
        "colab_type": "code",
        "colab": {
          "base_uri": "https://localhost:8080/",
          "height": 314
        },
        "outputId": "2e921da4-61ad-4db8-bf87-bad19a22bc39"
      },
      "source": [
        "smartadds.experiment.value_counts().plot(kind='bar',legend=True)"
      ],
      "execution_count": 11,
      "outputs": [
        {
          "output_type": "execute_result",
          "data": {
            "text/plain": [
              "<matplotlib.axes._subplots.AxesSubplot at 0x7f8aef1b6ef0>"
            ]
          },
          "metadata": {
            "tags": []
          },
          "execution_count": 11
        },
        {
          "output_type": "display_data",
          "data": {
            "image/png": "[encoded data removed]",
            "text/plain": [
              "<Figure size 432x288 with 1 Axes>"
            ]
          },
          "metadata": {
            "tags": [],
            "needs_background": "light"
          }
        }
      ]
    },
    {
      "cell_type": "markdown",
      "metadata": {
        "id": "z1GRIEXOvXm6",
        "colab_type": "text"
      },
      "source": [
        "The number of people in the control group is slighly higher than that of users in the exposed group"
      ]
    },
    {
      "cell_type": "code",
      "metadata": {
        "id": "pB5LBHqvN8hl",
        "colab_type": "code",
        "colab": {
          "base_uri": "https://localhost:8080/",
          "height": 68
        },
        "outputId": "524cd96f-8a1a-47ee-e788-d53ae75b5e82"
      },
      "source": [
        "smartadds.experiment.value_counts()"
      ],
      "execution_count": 12,
      "outputs": [
        {
          "output_type": "execute_result",
          "data": {
            "text/plain": [
              "control    4071\n",
              "exposed    4006\n",
              "Name: experiment, dtype: int64"
            ]
          },
          "metadata": {
            "tags": []
          },
          "execution_count": 12
        }
      ]
    },
    {
      "cell_type": "markdown",
      "metadata": {
        "id": "CZw5CyvPOiGO",
        "colab_type": "text"
      },
      "source": [
        "we need to perform a sanity check to scale both groups to be in the same range since the numbers in the control is quite more than those in the experiment, this will be sone in the next step\n"
      ]
    },
    {
      "cell_type": "code",
      "metadata": {
        "id": "sKkkJ66q8ev_",
        "colab_type": "code",
        "colab": {}
      },
      "source": [
        "exposed = smartadds[smartadds.experiment=='exposed']\n",
        "control = smartadds[smartadds.experiment=='control']"
      ],
      "execution_count": 13,
      "outputs": []
    },
    {
      "cell_type": "code",
      "metadata": {
        "id": "PTtE1ZZcQFrb",
        "colab_type": "code",
        "colab": {
          "base_uri": "https://localhost:8080/",
          "height": 221
        },
        "outputId": "27101e0e-8e1a-4aec-883b-6343300ba3c2"
      },
      "source": [
        "print(exposed['device_make'].value_counts().head())\n",
        "print(control['device_make'].value_counts().head())"
      ],
      "execution_count": 14,
      "outputs": [
        {
          "output_type": "stream",
          "text": [
            "Generic Smartphone    2332\n",
            "iPhone                 122\n",
            "Samsung SM-G960F        99\n",
            "Samsung SM-G950F        82\n",
            "Samsung SM-G973F        58\n",
            "Name: device_make, dtype: int64\n",
            "Generic Smartphone    2411\n",
            "iPhone                 311\n",
            "Samsung SM-G960F       104\n",
            "Samsung SM-G973F        96\n",
            "Samsung SM-G950F        66\n",
            "Name: device_make, dtype: int64\n"
          ],
          "name": "stdout"
        }
      ]
    },
    {
      "cell_type": "code",
      "metadata": {
        "id": "7euxKvDuXToC",
        "colab_type": "code",
        "colab": {
          "base_uri": "https://localhost:8080/",
          "height": 221
        },
        "outputId": "494ceefa-a0dc-4959-e507-8e0464c1d93e"
      },
      "source": [
        "print(control['browser'].value_counts().head())\n",
        "print(exposed['browser'].value_counts().head())"
      ],
      "execution_count": 15,
      "outputs": [
        {
          "output_type": "stream",
          "text": [
            "Chrome Mobile            2410\n",
            "Facebook                  561\n",
            "Samsung Internet          492\n",
            "Chrome Mobile WebView     292\n",
            "Mobile Safari             246\n",
            "Name: browser, dtype: int64\n",
            "Chrome Mobile            2144\n",
            "Chrome Mobile WebView    1197\n",
            "Samsung Internet          332\n",
            "Facebook                  203\n",
            "Mobile Safari              91\n",
            "Name: browser, dtype: int64\n"
          ],
          "name": "stdout"
        }
      ]
    },
    {
      "cell_type": "markdown",
      "metadata": {
        "id": "PITyOdBWVI8n",
        "colab_type": "text"
      },
      "source": [
        "Our invariant metrics are the numbers of people who are in the exposed & control group,the device_make, browser and platform_os\n",
        "We will perform sanity checks on theses columns"
      ]
    },
    {
      "cell_type": "markdown",
      "metadata": {
        "id": "PdW4gOu_4PYI",
        "colab_type": "text"
      },
      "source": [
        "let us check if there is any difference in those that clicked yes or no to the total numbers of people that saw the ads in both groups"
      ]
    },
    {
      "cell_type": "code",
      "metadata": {
        "id": "LBYSms4f1YK9",
        "colab_type": "code",
        "colab": {
          "base_uri": "https://localhost:8080/",
          "height": 68
        },
        "outputId": "d7d17ff9-4353-426a-ba74-72e1fff29c56"
      },
      "source": [
        "smartadds.experiment.value_counts()"
      ],
      "execution_count": 16,
      "outputs": [
        {
          "output_type": "execute_result",
          "data": {
            "text/plain": [
              "control    4071\n",
              "exposed    4006\n",
              "Name: experiment, dtype: int64"
            ]
          },
          "metadata": {
            "tags": []
          },
          "execution_count": 16
        }
      ]
    },
    {
      "cell_type": "markdown",
      "metadata": {
        "id": "EIRAJvI95HtS",
        "colab_type": "text"
      },
      "source": [
        "let us check if this is statistically significant, to do this we expect the number of views in the control group to be about 50% of the total number of views in both groups. Since our model follows a binomial distribution of yes and no, we can model it with the biniomaial. If we use a 0.5 then theprobability of clicking should around 0.5 in both groups, we will also be using confidence interval which tells us which range an obseved p can exist and can be acceptablea the expected value"
      ]
    },
    {
      "cell_type": "code",
      "metadata": {
        "id": "B6RzoWIQ78FW",
        "colab_type": "code",
        "colab": {}
      },
      "source": [
        "control_adds_viewed = len(control)"
      ],
      "execution_count": 17,
      "outputs": []
    },
    {
      "cell_type": "code",
      "metadata": {
        "id": "KOyjEXbB5GBJ",
        "colab_type": "code",
        "colab": {}
      },
      "source": [
        "# definning the z_score function\n",
        "def get_z_score(alpha):\n",
        "  return norm.ppf(alpha)"
      ],
      "execution_count": 18,
      "outputs": []
    },
    {
      "cell_type": "code",
      "metadata": {
        "id": "_wLK7icz7yxJ",
        "colab_type": "code",
        "colab": {
          "base_uri": "https://localhost:8080/",
          "height": 34
        },
        "outputId": "539733a4-5a0d-4ca8-a1a9-1824e72e5518"
      },
      "source": [
        "p= 0.5 \n",
        "alpha =0.05 # using a 95% confidence\n",
        "p_hat = control_adds_viewed/len(smartadds)\n",
        "sd =mt.sqrt(p*(1-p)/len(smartadds))\n",
        "ME= round(get_z_score(1-(alpha/2))*sd,4)\n",
        "print(\"The confidence interval is between\",p-ME,\"and\",p+ME,\"; Is\", p_hat,\"insdie ths range\")"
      ],
      "execution_count": 19,
      "outputs": [
        {
          "output_type": "stream",
          "text": [
            "The confidence interval is between 0.4891 and 0.5109 ; Is 0.504023771202179 insdie ths range\n"
          ],
          "name": "stdout"
        }
      ]
    },
    {
      "cell_type": "markdown",
      "metadata": {
        "id": "LRXXYNoz-Jn6",
        "colab_type": "text"
      },
      "source": [
        "Our observed p_hat is inside this range which means the difference in number of samples between groups is expected. So far so good, since this invariant metric test is successful and hence the difference is not statistically significance"
      ]
    },
    {
      "cell_type": "markdown",
      "metadata": {
        "id": "A-JhQssW-1yq",
        "colab_type": "text"
      },
      "source": [
        ""
      ]
    },
    {
      "cell_type": "code",
      "metadata": {
        "id": "-lsUCM_6-JA7",
        "colab_type": "code",
        "colab": {
          "base_uri": "https://localhost:8080/",
          "height": 136
        },
        "outputId": "2c11db5b-91c1-41c1-8c95-becc5a17b4ca"
      },
      "source": [
        "grouped_responses=smartadds.groupby('experiment')[['yes','no']].sum().reset_index(\n",
        ")\n",
        "print(grouped_responses)\n",
        "print(grouped_responses.sum(axis=1))\n",
        "print(grouped_responses.sum(axis=1).sum())"
      ],
      "execution_count": 20,
      "outputs": [
        {
          "output_type": "stream",
          "text": [
            "  experiment  yes   no\n",
            "0    control  264  322\n",
            "1    exposed  308  349\n",
            "0    586\n",
            "1    657\n",
            "dtype: int64\n",
            "1243\n"
          ],
          "name": "stdout"
        }
      ]
    },
    {
      "cell_type": "markdown",
      "metadata": {
        "id": "Y0BJXsyHAdxz",
        "colab_type": "text"
      },
      "source": [
        "Here we can see that there is a difference in number of clicks of either yes or no in both groups, let us check ifit is statistically significant"
      ]
    },
    {
      "cell_type": "code",
      "metadata": {
        "id": "sC889rvq_9Vi",
        "colab_type": "code",
        "colab": {
          "base_uri": "https://localhost:8080/",
          "height": 34
        },
        "outputId": "afafdf8a-fbd5-473d-9181-155ee22de6a2"
      },
      "source": [
        "# let us use similar procedure that we used for numbers in the group\n",
        "p= 0.5 \n",
        "alpha =0.05 # using a 95% confidence\n",
        "control_adds_clicked = 587\n",
        "total_adds_clicked =1243\n",
        "p_hat = control_adds_clicked/total_adds_clicked\n",
        "sd =mt.sqrt(p*(1-p)/total_adds_clicked)\n",
        "ME= round(get_z_score(1-(alpha/2))*sd,4)\n",
        "print(\"The confidence interval is between\",p-ME,\"and\",p+ME,\"; Is\", p_hat,\"insdie ths range\")"
      ],
      "execution_count": 21,
      "outputs": [
        {
          "output_type": "stream",
          "text": [
            "The confidence interval is between 0.4722 and 0.5278 ; Is 0.47224456958970235 insdie ths range\n"
          ],
          "name": "stdout"
        }
      ]
    },
    {
      "cell_type": "markdown",
      "metadata": {
        "id": "tolXBI0zEndp",
        "colab_type": "text"
      },
      "source": [
        "Since our p_hat is in between the two ranges we can confidently say that the sanity checked is okay"
      ]
    },
    {
      "cell_type": "markdown",
      "metadata": {
        "id": "c76qSk70Ff2y",
        "colab_type": "text"
      },
      "source": [
        "Let us go to specifying our hypothesis, the null and the alternative hypothesis"
      ]
    },
    {
      "cell_type": "markdown",
      "metadata": {
        "id": "5MO4yNpkF_hz",
        "colab_type": "text"
      },
      "source": [
        "the null hypothesis is that the proportion of people that clicked yes in both group is not different and the alternative is that there is a difference \n",
        "$Ho -H1 =0$ null hypothesis\n",
        "$Ho -H1\\neq 0$ alternative hypothesis\n",
        "\n",
        "\n",
        "\n"
      ]
    },
    {
      "cell_type": "code",
      "metadata": {
        "id": "W8nMZYLKF-nu",
        "colab_type": "code",
        "colab": {
          "base_uri": "https://localhost:8080/",
          "height": 34
        },
        "outputId": "c57e5843-d196-4434-a2cf-d91a3311928c"
      },
      "source": [
        "control_yes_click_rate = len(control[control.yes==1])/len(control[(control.yes==1)|(control.no==1)])\n",
        "print(control_yes_click_rate)"
      ],
      "execution_count": 22,
      "outputs": [
        {
          "output_type": "stream",
          "text": [
            "0.45051194539249145\n"
          ],
          "name": "stdout"
        }
      ]
    },
    {
      "cell_type": "code",
      "metadata": {
        "id": "RigLFoRmH5tz",
        "colab_type": "code",
        "colab": {
          "base_uri": "https://localhost:8080/",
          "height": 34
        },
        "outputId": "4f2c303a-41ad-41f6-d0a2-a4e3dd56b4c1"
      },
      "source": [
        "exposed_yes_click_rate = len(exposed[exposed.yes==1])/len(exposed[(exposed.yes==1)|(exposed.no==1)])\n",
        "print(exposed_yes_click_rate)"
      ],
      "execution_count": 23,
      "outputs": [
        {
          "output_type": "stream",
          "text": [
            "0.4687975646879756\n"
          ],
          "name": "stdout"
        }
      ]
    },
    {
      "cell_type": "markdown",
      "metadata": {
        "id": "8aZ_rVKFI4Gj",
        "colab_type": "text"
      },
      "source": [
        "visuslly there seems to be a difference but we do not know if it is statistically significance, we we check visually and analytical"
      ]
    },
    {
      "cell_type": "code",
      "metadata": {
        "id": "Dm5nOBEAImxC",
        "colab_type": "code",
        "colab": {
          "base_uri": "https://localhost:8080/",
          "height": 34
        },
        "outputId": "bf5587ca-9b3c-4d7c-bee5-d5feec2c3eb9"
      },
      "source": [
        "weightstats.ztest(control['yes'],exposed['yes'],alternative='two-sided')"
      ],
      "execution_count": 24,
      "outputs": [
        {
          "output_type": "execute_result",
          "data": {
            "text/plain": [
              "(-2.108610239127817, 0.03497823834674959)"
            ]
          },
          "metadata": {
            "tags": []
          },
          "execution_count": 24
        }
      ]
    },
    {
      "cell_type": "markdown",
      "metadata": {
        "id": "mTCfqb6QcjJC",
        "colab_type": "text"
      },
      "source": [
        "The p-value of the classical a/b testing is 0.03 which is smaller than 0.05 if we are using alpha = 0.05, hence we are 95% confidence of rejecting the null hypotheis and say that there is a statistical significance difference. From here we can see that there is a brand increase awareness in the exposed group"
      ]
    },
    {
      "cell_type": "markdown",
      "metadata": {
        "id": "lZFbsZIhMYuZ",
        "colab_type": "text"
      },
      "source": [
        "## Sequential hypothesis testing"
      ]
    },
    {
      "cell_type": "code",
      "metadata": {
        "id": "awiWfIy7Mgyd",
        "colab_type": "code",
        "colab": {
          "base_uri": "https://localhost:8080/",
          "height": 190
        },
        "outputId": "a1f41382-1120-4e55-dafc-cfcd9c2a0c9a"
      },
      "source": [
        "!pip install git+https://github.com/Idowuilekura/Sequential-Probability-Ratio-Test"
      ],
      "execution_count": 25,
      "outputs": [
        {
          "output_type": "stream",
          "text": [
            "Collecting git+https://github.com/Idowuilekura/Sequential-Probability-Ratio-Test\n",
            "  Cloning https://github.com/Idowuilekura/Sequential-Probability-Ratio-Test to /tmp/pip-req-build-kjrj80nl\n",
            "  Running command git clone -q https://github.com/Idowuilekura/Sequential-Probability-Ratio-Test /tmp/pip-req-build-kjrj80nl\n",
            "Requirement already satisfied (use --upgrade to upgrade): sprt==0.0.1 from git+https://github.com/Idowuilekura/Sequential-Probability-Ratio-Test in /usr/local/lib/python3.6/dist-packages\n",
            "Building wheels for collected packages: sprt\n",
            "  Building wheel for sprt (setup.py) ... \u001b[?25l\u001b[?25hdone\n",
            "  Created wheel for sprt: filename=sprt-0.0.1-cp36-none-any.whl size=4648 sha256=ec97005c8a03a754b8bf0c1c794a681c0437e1ca1737f86aeec14ba17e6e425b\n",
            "  Stored in directory: /tmp/pip-ephem-wheel-cache-zlv33rpx/wheels/c3/a4/0a/a6491baa3ac84d0ca75edd988ea4bfb4a2758a7840c1c28485\n",
            "Successfully built sprt\n"
          ],
          "name": "stdout"
        }
      ]
    },
    {
      "cell_type": "code",
      "metadata": {
        "id": "rjPFDB14NJxc",
        "colab_type": "code",
        "colab": {}
      },
      "source": [
        "import sprt as sprt"
      ],
      "execution_count": 26,
      "outputs": []
    },
    {
      "cell_type": "markdown",
      "metadata": {
        "id": "o1Q060JKNlxd",
        "colab_type": "text"
      },
      "source": [
        "$Ho=rate of people that clicked yes $ null hypothesis\n",
        "$H1=rate of people that clicked yes in exposed$ alternative hypothesis"
      ]
    },
    {
      "cell_type": "code",
      "metadata": {
        "id": "gP5yftBuNPNS",
        "colab_type": "code",
        "colab": {
          "base_uri": "https://localhost:8080/",
          "height": 255
        },
        "outputId": "6c54da2d-9d03-49b6-f5cc-e974778800a9"
      },
      "source": [
        "h0 = control_yes_click_rate\n",
        "h1 = exposed_yes_click_rate\n",
        "values = control.yes[(control.yes==1)|(control.no==1)].values\n",
        "alpha = 0.05\n",
        "beta = 0.2\n",
        "test = sprt.SPRTBinomial(h0=h0,h1=h1,alpha=alpha,beta=beta,values=values)\n"
      ],
      "execution_count": 27,
      "outputs": [
        {
          "output_type": "stream",
          "text": [
            "Decision:\tContinue\n",
            "\n",
            "     values    lower    upper\n",
            "n                            \n",
            "577     261  244.054  302.871\n",
            "578     262  244.513  303.331\n",
            "579     262  244.973  303.790\n",
            "580     262  245.433  304.250\n",
            "581     262  245.892  304.710\n",
            "582     263  246.352  305.169\n",
            "583     263  246.812  305.629\n",
            "584     264  247.271  306.089\n",
            "585     264  247.731  306.548\n",
            "586     264  248.191  307.008\n"
          ],
          "name": "stdout"
        }
      ]
    },
    {
      "cell_type": "code",
      "metadata": {
        "id": "UOYx17IwRkjz",
        "colab_type": "code",
        "colab": {
          "base_uri": "https://localhost:8080/",
          "height": 392
        },
        "outputId": "33768944-2909-46a1-ffd5-98f92c1ab1eb"
      },
      "source": [
        "test.plot()"
      ],
      "execution_count": 28,
      "outputs": [
        {
          "output_type": "display_data",
          "data": {
            "image/png": "[encoded data removed]",
            "text/plain": [
              "<Figure size 576x432 with 1 Axes>"
            ]
          },
          "metadata": {
            "tags": [],
            "needs_background": "light"
          }
        }
      ]
    },
    {
      "cell_type": "markdown",
      "metadata": {
        "id": "ihLfO8DkRwGh",
        "colab_type": "text"
      },
      "source": [
        "From here we could see that if the experiment is ran longer then there will not be a statistically significant difference and hence we will likely fail to reject the hypothesis"
      ]
    },
    {
      "cell_type": "markdown",
      "metadata": {
        "id": "gPDmZ_UedsJl",
        "colab_type": "text"
      },
      "source": [
        "# Task 2.2 Machine Learning"
      ]
    },
    {
      "cell_type": "markdown",
      "metadata": {
        "id": "xQmFpt3ReXfj",
        "colab_type": "text"
      },
      "source": [
        "In max three statements, make a problem formulation for machine learning and specify the target variable"
      ]
    },
    {
      "cell_type": "markdown",
      "metadata": {
        "id": "3vd1F-OaesCg",
        "colab_type": "text"
      },
      "source": [
        "We want to use machine learning to predict if users in the exposed will click yes answers more than those in control group, although we have used statistics to see a difference in both groups but we do not knowwhat factors drive the yes responsesin both group, we will be using machine learning to account for those features."
      ]
    },
    {
      "cell_type": "markdown",
      "metadata": {
        "id": "Eq5YY_nWQbDG",
        "colab_type": "text"
      },
      "source": [
        "Train a machine learning model using 5-fold cross validation the following 3 different algorithms:\n",
        "Logistic Regression \n",
        "Decision Trees\n",
        "XGBoost\n"
      ]
    },
    {
      "cell_type": "code",
      "metadata": {
        "id": "rlKP_QoIS4J2",
        "colab_type": "code",
        "colab": {}
      },
      "source": [
        "# importing needed machine learning libraries\n",
        "import xgboost as xgb\n",
        "import sklearn \n",
        "from sklearn.preprocessing import LabelEncoder\n",
        "from sklearn.linear_model import LogisticRegression\n",
        "from sklearn import metrics \n",
        "from sklearn.tree import DecisionTreeClassifier\n",
        "from sklearn.model_selection import train_test_split,cross_validate,cross_val_score\n",
        "from sklearn.metrics import log_loss, make_scorer\n",
        "from sklearn.preprocessing import StandardScaler"
      ],
      "execution_count": 29,
      "outputs": []
    },
    {
      "cell_type": "code",
      "metadata": {
        "id": "PNrIPjRxXX_r",
        "colab_type": "code",
        "colab": {}
      },
      "source": [
        "#let us view our dataset\n",
        "smartadds.head()\n",
        "values_predicted = smartadds['yes']\n",
        "smartadds_copy = smartadds.copy()\n",
        "smartadds_copy.drop(['auction_id','date','hour','yes','no'],axis=1,inplace=True)"
      ],
      "execution_count": 30,
      "outputs": []
    },
    {
      "cell_type": "code",
      "metadata": {
        "id": "unZkRVw7w9k2",
        "colab_type": "code",
        "colab": {
          "base_uri": "https://localhost:8080/",
          "height": 34
        },
        "outputId": "cc13678a-5cbd-49e8-b620-94c911ae884e"
      },
      "source": [
        "values_predicted.values.reshape(1,-1)"
      ],
      "execution_count": 31,
      "outputs": [
        {
          "output_type": "execute_result",
          "data": {
            "text/plain": [
              "array([[0, 0, 0, ..., 0, 0, 0]])"
            ]
          },
          "metadata": {
            "tags": []
          },
          "execution_count": 31
        }
      ]
    },
    {
      "cell_type": "code",
      "metadata": {
        "id": "iuHBZw5VUBFg",
        "colab_type": "code",
        "colab": {
          "base_uri": "https://localhost:8080/",
          "height": 204
        },
        "outputId": "46b64d34-0b6f-4adb-c0b3-a412f2f51cd8"
      },
      "source": [
        "smartadds_copy.info()"
      ],
      "execution_count": 32,
      "outputs": [
        {
          "output_type": "stream",
          "text": [
            "<class 'pandas.core.frame.DataFrame'>\n",
            "RangeIndex: 8077 entries, 0 to 8076\n",
            "Data columns (total 4 columns):\n",
            " #   Column       Non-Null Count  Dtype \n",
            "---  ------       --------------  ----- \n",
            " 0   experiment   8077 non-null   object\n",
            " 1   device_make  8077 non-null   object\n",
            " 2   platform_os  8077 non-null   int64 \n",
            " 3   browser      8077 non-null   object\n",
            "dtypes: int64(1), object(3)\n",
            "memory usage: 252.5+ KB\n"
          ],
          "name": "stdout"
        }
      ]
    },
    {
      "cell_type": "markdown",
      "metadata": {
        "id": "x7NuAW5GUozb",
        "colab_type": "text"
      },
      "source": [
        "since we have columns with categorical features we will need to use label_encoder to numerically encode the categorical feautures"
      ]
    },
    {
      "cell_type": "code",
      "metadata": {
        "id": "gGnTpOViS1U9",
        "colab_type": "code",
        "colab": {
          "base_uri": "https://localhost:8080/",
          "height": 34
        },
        "outputId": "55efc311-9c03-4076-a0cf-a57ee0fcbb40"
      },
      "source": [
        "object_column_list = list(smartadds_copy.select_dtypes(include=['object']).columns)\n",
        "object_column_list"
      ],
      "execution_count": 33,
      "outputs": [
        {
          "output_type": "execute_result",
          "data": {
            "text/plain": [
              "['experiment', 'device_make', 'browser']"
            ]
          },
          "metadata": {
            "tags": []
          },
          "execution_count": 33
        }
      ]
    },
    {
      "cell_type": "code",
      "metadata": {
        "id": "GJjNJiTFrMoA",
        "colab_type": "code",
        "colab": {}
      },
      "source": [
        "new_predictors_df = smartadds_copy\n"
      ],
      "execution_count": 34,
      "outputs": []
    },
    {
      "cell_type": "code",
      "metadata": {
        "id": "nCqNoxm_r2Wr",
        "colab_type": "code",
        "colab": {}
      },
      "source": [
        "label_encoder = LabelEncoder()\n",
        "standard_scaler = StandardScaler()"
      ],
      "execution_count": 35,
      "outputs": []
    },
    {
      "cell_type": "code",
      "metadata": {
        "id": "NHg7pNhXs58P",
        "colab_type": "code",
        "colab": {}
      },
      "source": [
        "# initializing the encoder_function\n",
        "def label_encoder_column(df,col):\n",
        "  col_labelled = label_encoder.fit_transform(df[col])\n",
        "  col_transformed = standard_scaler.fit_transform(col_labelled.reshape(-1,1))\n",
        "  return col_transformed"
      ],
      "execution_count": 36,
      "outputs": []
    },
    {
      "cell_type": "code",
      "metadata": {
        "id": "aHAz516hrjsr",
        "colab_type": "code",
        "colab": {}
      },
      "source": [
        "for col in object_column_list:\n",
        "  new_predictors_df[col] = label_encoder_column(new_predictors_df,col)"
      ],
      "execution_count": 37,
      "outputs": []
    },
    {
      "cell_type": "code",
      "metadata": {
        "id": "5xZleTwhJcCh",
        "colab_type": "code",
        "colab": {}
      },
      "source": [
        "new_predictors_df['platform_os'] = standard_scaler.fit_transform(np.array(new_predictors_df['platform_os']).reshape(-1,1))"
      ],
      "execution_count": 38,
      "outputs": []
    },
    {
      "cell_type": "code",
      "metadata": {
        "id": "z380_lCSuI5w",
        "colab_type": "code",
        "colab": {
          "base_uri": "https://localhost:8080/",
          "height": 204
        },
        "outputId": "3a95fdfc-8db9-40f5-f7e1-30a34f8579fb"
      },
      "source": [
        "new_predictors_df.head()"
      ],
      "execution_count": 39,
      "outputs": [
        {
          "output_type": "execute_result",
          "data": {
            "text/html": [
              "<div>\n",
              "<style scoped>\n",
              "    .dataframe tbody tr th:only-of-type {\n",
              "        vertical-align: middle;\n",
              "    }\n",
              "\n",
              "    .dataframe tbody tr th {\n",
              "        vertical-align: top;\n",
              "    }\n",
              "\n",
              "    .dataframe thead th {\n",
              "        text-align: right;\n",
              "    }\n",
              "</style>\n",
              "<table border=\"1\" class=\"dataframe\">\n",
              "  <thead>\n",
              "    <tr style=\"text-align: right;\">\n",
              "      <th></th>\n",
              "      <th>experiment</th>\n",
              "      <th>device_make</th>\n",
              "      <th>platform_os</th>\n",
              "      <th>browser</th>\n",
              "    </tr>\n",
              "  </thead>\n",
              "  <tbody>\n",
              "    <tr>\n",
              "      <th>0</th>\n",
              "      <td>1.008080</td>\n",
              "      <td>-0.669861</td>\n",
              "      <td>0.235674</td>\n",
              "      <td>-0.563142</td>\n",
              "    </tr>\n",
              "    <tr>\n",
              "      <th>1</th>\n",
              "      <td>1.008080</td>\n",
              "      <td>-0.669861</td>\n",
              "      <td>0.235674</td>\n",
              "      <td>-0.563142</td>\n",
              "    </tr>\n",
              "    <tr>\n",
              "      <th>2</th>\n",
              "      <td>1.008080</td>\n",
              "      <td>-0.911660</td>\n",
              "      <td>0.235674</td>\n",
              "      <td>-0.294699</td>\n",
              "    </tr>\n",
              "    <tr>\n",
              "      <th>3</th>\n",
              "      <td>-0.991985</td>\n",
              "      <td>0.624475</td>\n",
              "      <td>0.235674</td>\n",
              "      <td>0.510630</td>\n",
              "    </tr>\n",
              "    <tr>\n",
              "      <th>4</th>\n",
              "      <td>-0.991985</td>\n",
              "      <td>-0.669861</td>\n",
              "      <td>0.235674</td>\n",
              "      <td>-0.563142</td>\n",
              "    </tr>\n",
              "  </tbody>\n",
              "</table>\n",
              "</div>"
            ],
            "text/plain": [
              "   experiment  device_make  platform_os   browser\n",
              "0    1.008080    -0.669861     0.235674 -0.563142\n",
              "1    1.008080    -0.669861     0.235674 -0.563142\n",
              "2    1.008080    -0.911660     0.235674 -0.294699\n",
              "3   -0.991985     0.624475     0.235674  0.510630\n",
              "4   -0.991985    -0.669861     0.235674 -0.563142"
            ]
          },
          "metadata": {
            "tags": []
          },
          "execution_count": 39
        }
      ]
    },
    {
      "cell_type": "markdown",
      "metadata": {
        "id": "Z6Qw6jBjaipk",
        "colab_type": "text"
      },
      "source": [
        "Split the dataset into training and testing data"
      ]
    },
    {
      "cell_type": "code",
      "metadata": {
        "id": "mObIfeKicjZe",
        "colab_type": "code",
        "colab": {}
      },
      "source": [
        "#using train_split of sklearn \n",
        "X_train,X_test,y_train,y_test = train_test_split(new_predictors_df,values_predicted,test_size=0.3,random_state=1)"
      ],
      "execution_count": 40,
      "outputs": []
    },
    {
      "cell_type": "code",
      "metadata": {
        "id": "UYvT68tYdxT9",
        "colab_type": "code",
        "colab": {
          "base_uri": "https://localhost:8080/",
          "height": 34
        },
        "outputId": "22562799-7781-4456-a447-fd561489bc0b"
      },
      "source": [
        "# cheking if it was properly splitted\n",
        "round((len(X_train)/len(new_predictors_df))*100)"
      ],
      "execution_count": 41,
      "outputs": [
        {
          "output_type": "execute_result",
          "data": {
            "text/plain": [
              "70"
            ]
          },
          "metadata": {
            "tags": []
          },
          "execution_count": 41
        }
      ]
    },
    {
      "cell_type": "code",
      "metadata": {
        "id": "QZeb4HXjlz7N",
        "colab_type": "code",
        "colab": {}
      },
      "source": [
        "X= new_predictors_df\n",
        "y= values_predicted"
      ],
      "execution_count": 42,
      "outputs": []
    },
    {
      "cell_type": "markdown",
      "metadata": {
        "id": "njw6VoDbexyJ",
        "colab_type": "text"
      },
      "source": [
        "performing cross validation with the data and calculating each models log function "
      ]
    },
    {
      "cell_type": "code",
      "metadata": {
        "id": "i8pwVPkeos-G",
        "colab_type": "code",
        "colab": {}
      },
      "source": [
        "my_scorer = make_scorer(log_loss)"
      ],
      "execution_count": 43,
      "outputs": []
    },
    {
      "cell_type": "code",
      "metadata": {
        "id": "egVI3wp4zKNg",
        "colab_type": "code",
        "colab": {
          "base_uri": "https://localhost:8080/",
          "height": 34
        },
        "outputId": "251cd95b-b21a-4a00-c7d8-5c8feb15cc18"
      },
      "source": [
        "X.shape"
      ],
      "execution_count": 44,
      "outputs": [
        {
          "output_type": "execute_result",
          "data": {
            "text/plain": [
              "(8077, 4)"
            ]
          },
          "metadata": {
            "tags": []
          },
          "execution_count": 44
        }
      ]
    },
    {
      "cell_type": "code",
      "metadata": {
        "id": "o8U55C-Ce9LK",
        "colab_type": "code",
        "colab": {}
      },
      "source": [
        "logistic_model = LogisticRegression()\n",
        "values=cross_validate(logistic_model,X.values,y,cv=5,scoring=my_scorer)"
      ],
      "execution_count": 45,
      "outputs": []
    },
    {
      "cell_type": "code",
      "metadata": {
        "id": "TsRcbisd6TJQ",
        "colab_type": "code",
        "colab": {
          "base_uri": "https://localhost:8080/",
          "height": 34
        },
        "outputId": "00201812-431b-4a54-f8fb-28c410a132c7"
      },
      "source": [
        "values['test_score']"
      ],
      "execution_count": 46,
      "outputs": [
        {
          "output_type": "execute_result",
          "data": {
            "text/plain": [
              "array([2.4578956 , 2.4578956 , 2.43803127, 2.43803127, 2.43803127])"
            ]
          },
          "metadata": {
            "tags": []
          },
          "execution_count": 46
        }
      ]
    },
    {
      "cell_type": "code",
      "metadata": {
        "id": "1Mrj0MkjzqEV",
        "colab_type": "code",
        "colab": {
          "base_uri": "https://localhost:8080/",
          "height": 34
        },
        "outputId": "8001dcff-1d1d-4c58-c87e-9cff4f7e09ed"
      },
      "source": [
        "val=cross_val_score(logistic_model, X.values, y, cv=5, scoring='neg_log_loss')\n",
        "print(val)"
      ],
      "execution_count": 47,
      "outputs": [
        {
          "output_type": "stream",
          "text": [
            "[-0.25371526 -0.25557815 -0.25321994 -0.25240473 -0.25300017]\n"
          ],
          "name": "stdout"
        }
      ]
    },
    {
      "cell_type": "code",
      "metadata": {
        "id": "1-hZITGB_Qq7",
        "colab_type": "code",
        "colab": {}
      },
      "source": [
        "decision_tree_classifier = DecisionTreeClassifier()\n",
        "val_tree = cross_val_score(decision_tree_classifier,X.values,y,cv=5,scoring=my_scorer)"
      ],
      "execution_count": 48,
      "outputs": []
    },
    {
      "cell_type": "code",
      "metadata": {
        "id": "lKChGXRXApA_",
        "colab_type": "code",
        "colab": {
          "base_uri": "https://localhost:8080/",
          "height": 34
        },
        "outputId": "50dbca80-04c4-42c3-d33d-77f5f7ea7643"
      },
      "source": [
        "val_tree"
      ],
      "execution_count": 49,
      "outputs": [
        {
          "output_type": "execute_result",
          "data": {
            "text/plain": [
              "array([2.62888409, 2.6075101 , 2.50219148, 2.56635168, 2.54496495])"
            ]
          },
          "metadata": {
            "tags": []
          },
          "execution_count": 49
        }
      ]
    },
    {
      "cell_type": "code",
      "metadata": {
        "id": "xLetAL5YDSX8",
        "colab_type": "code",
        "colab": {
          "base_uri": "https://localhost:8080/",
          "height": 34
        },
        "outputId": "73822cab-f2b6-43cc-9c1d-18826a19bbbf"
      },
      "source": [
        "xgb_classifier = xgb.XGBClassifier()\n",
        "xgb_val = cross_val_score(xgb_classifier,X.values,y,cv=5,scoring='neg_log_loss')\n",
        "xgb_val"
      ],
      "execution_count": 50,
      "outputs": [
        {
          "output_type": "execute_result",
          "data": {
            "text/plain": [
              "array([-0.25393112, -0.25689088, -0.25309598, -0.25145321, -0.25747407])"
            ]
          },
          "metadata": {
            "tags": []
          },
          "execution_count": 50
        }
      ]
    },
    {
      "cell_type": "markdown",
      "metadata": {
        "id": "YKMpiFPhTy4q",
        "colab_type": "text"
      },
      "source": [
        "Compute feature importance - what’s driving the model? Which parameters are important predictors for the different ML models? What contributes to the goal of gaining more “Yes” results?\n",
        "Which data features are relevant to predicting the target variable?\n",
        "Explain what the difference is between using A/B testing to test a hypothesis vs using Machine learning to learn the viability of the same effect?\n",
        "Explain the purpose of training using k-fold cross validation instead of using the whole data to train the ML models?\n",
        "What information do you gain using the Machine Learning approach that you couldn’t obtain using A/B testing?\n"
      ]
    },
    {
      "cell_type": "markdown",
      "metadata": {
        "id": "li5lDBsFUMnu",
        "colab_type": "text"
      },
      "source": [
        "#Computing the various features importance for all the models"
      ]
    },
    {
      "cell_type": "code",
      "metadata": {
        "id": "V76i23NOTnDG",
        "colab_type": "code",
        "colab": {}
      },
      "source": [
        "logistic_model.fit(X,y)\n",
        "importance = logistic_model.coef_[0]"
      ],
      "execution_count": 51,
      "outputs": []
    },
    {
      "cell_type": "code",
      "metadata": {
        "id": "NQgzoVXEeu36",
        "colab_type": "code",
        "colab": {}
      },
      "source": [
        "original_features_list = list(X.columns)\n",
        "log_dict = {}\n",
        "c = 0\n",
        "for i in original_features_list:\n",
        "    if c < len(importance)-1:\n",
        "        log_dict[i] = importance [c]\n",
        "    c+=1"
      ],
      "execution_count": 52,
      "outputs": []
    },
    {
      "cell_type": "code",
      "metadata": {
        "id": "WjHAM5-uj3oA",
        "colab_type": "code",
        "colab": {
          "base_uri": "https://localhost:8080/",
          "height": 34
        },
        "outputId": "1cc2ce00-4a1f-4f46-eea5-a759b9973792"
      },
      "source": [
        "print(log_dict)"
      ],
      "execution_count": 53,
      "outputs": [
        {
          "output_type": "stream",
          "text": [
            "{'experiment': 0.07132066376544673, 'device_make': 0.0900876261278198, 'platform_os': 0.4562172279485216}\n"
          ],
          "name": "stdout"
        }
      ]
    },
    {
      "cell_type": "code",
      "metadata": {
        "id": "6ztiYh-dDz5w",
        "colab_type": "code",
        "colab": {}
      },
      "source": [
        "decision_tree_classifier.fit(X,y)\n",
        "importance_tree = decision_tree_classifier.feature_importances_"
      ],
      "execution_count": 54,
      "outputs": []
    },
    {
      "cell_type": "code",
      "metadata": {
        "id": "SNJeKzA8LEbq",
        "colab_type": "code",
        "colab": {}
      },
      "source": [
        "dec_dict = {}\n",
        "c = 0\n",
        "for i in original_features_list:\n",
        "    if c < len(importance)-1:\n",
        "        dec_dict[i] = importance [c]\n",
        "    c+=1"
      ],
      "execution_count": 55,
      "outputs": []
    },
    {
      "cell_type": "code",
      "metadata": {
        "id": "W5pdh8GBLKKm",
        "colab_type": "code",
        "colab": {
          "base_uri": "https://localhost:8080/",
          "height": 34
        },
        "outputId": "4f1899f7-881d-4e7f-d2bd-d49a2dcd9ead"
      },
      "source": [
        "print(dec_dict)"
      ],
      "execution_count": 56,
      "outputs": [
        {
          "output_type": "stream",
          "text": [
            "{'experiment': 0.07132066376544673, 'device_make': 0.0900876261278198, 'platform_os': 0.4562172279485216}\n"
          ],
          "name": "stdout"
        }
      ]
    },
    {
      "cell_type": "code",
      "metadata": {
        "id": "36msf0mbLSe8",
        "colab_type": "code",
        "colab": {}
      },
      "source": [
        "xgb_classifier.fit(X,y)\n",
        "importance_xg = xgb_classifier.feature_importances_"
      ],
      "execution_count": 57,
      "outputs": []
    },
    {
      "cell_type": "code",
      "metadata": {
        "id": "g5DScxuQLcyJ",
        "colab_type": "code",
        "colab": {}
      },
      "source": [
        "xgb_dict = {}\n",
        "c = 0\n",
        "for i in original_features_list:\n",
        "    if c < len(importance)-1:\n",
        "        xgb_dict[i] = importance [c]\n",
        "    c+=1"
      ],
      "execution_count": 58,
      "outputs": []
    },
    {
      "cell_type": "code",
      "metadata": {
        "id": "pmc1P1iFLmKs",
        "colab_type": "code",
        "colab": {
          "base_uri": "https://localhost:8080/",
          "height": 34
        },
        "outputId": "241d9dff-4c60-4294-99d4-3ca2b44cd4e5"
      },
      "source": [
        "print(xgb_dict)"
      ],
      "execution_count": 59,
      "outputs": [
        {
          "output_type": "stream",
          "text": [
            "{'experiment': 0.07132066376544673, 'device_make': 0.0900876261278198, 'platform_os': 0.4562172279485216}\n"
          ],
          "name": "stdout"
        }
      ]
    },
    {
      "cell_type": "markdown",
      "metadata": {
        "id": "fwwwe0r1LqH8",
        "colab_type": "text"
      },
      "source": [
        "From here we could see that the features that drives all the model most is the platform_os of the user followed by the device_make of the users who are seeing the adds. The platfom_os drives the propability of getting a yes or a no"
      ]
    },
    {
      "cell_type": "markdown",
      "metadata": {
        "id": "20gDg6oDLlFT",
        "colab_type": "text"
      },
      "source": [
        "Explain what the difference is between using A/B testing to test a hypothesis vs using Machine learning to learn the viability of the same effect? Explain the purpose of training using k-fold cross validation instead of using the whole data to train the ML models? What information do you gain using the Machine Learning approach that you couldn’t obtain using A/B testing?"
      ]
    },
    {
      "cell_type": "markdown",
      "metadata": {
        "id": "KOJwElkoK_zQ",
        "colab_type": "text"
      },
      "source": [
        "The difference between using a/b testing to test hypothesis vs using machine learning to learn the viability of the same effect, is that while a/b tells us if there is a difference between each group,machine learning helps us to know which features are causing the difference betweeen each results, this is googd because we can know what is making users to respond to a particular result or not"
      ]
    },
    {
      "cell_type": "markdown",
      "metadata": {
        "id": "0mKj2zpaDrhX",
        "colab_type": "text"
      },
      "source": [
        "The purpose of using k-fold cross validation instead of using the whole data to train the ML model is that,k-fold segments the dataset, trains on one and test on the remaining until the number of k is exhausted, it is helpful because it helps to reduce bias and variance. the information that i gained using machine learning is the features that drive the responses, whcih can not be gotten in the tranditional way"
      ]
    }
  ]
}